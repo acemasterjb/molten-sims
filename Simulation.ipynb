{
 "cells": [
  {
   "cell_type": "code",
   "execution_count": null,
   "metadata": {},
   "outputs": [],
   "source": [
    "# sets up the pynb environment\n",
    "import os\n",
    "import sys\n",
    "\n",
    "module_path = os.path.abspath(os.path.join(\"./models/\"))\n",
    "if module_path not in sys.path:\n",
    "    sys.path.append(module_path)"
   ]
  },
  {
   "cell_type": "code",
   "execution_count": null,
   "metadata": {},
   "outputs": [],
   "source": [
    "from cadCAD.engine import ExecutionContext, ExecutionMode, Executor\n",
    "import pandas as pd\n",
    "\n",
    "from models.config import exp\n",
    "\n",
    "exec_mode = ExecutionMode()\n",
    "local_mode_ctx = ExecutionContext(context=exec_mode.local_mode)\n",
    "\n",
    "simulation = Executor(exec_context=local_mode_ctx, configs=exp.configs)\n",
    "raw_system_events, _, _ = simulation.execute()\n",
    "\n",
    "results_df = pd.DataFrame(raw_system_events)\n",
    "results_df"
   ]
  },
  {
   "cell_type": "code",
   "execution_count": null,
   "metadata": {},
   "outputs": [],
   "source": [
    "twap_results = results_df[results_df[\"simulation\"] == 0]\n",
    "bc_results = results_df[results_df[\"simulation\"] == 1]"
   ]
  }
 ],
 "metadata": {
  "kernelspec": {
   "display_name": "Python 3.9.7 (conda)",
   "language": "python",
   "name": "python3"
  },
  "language_info": {
   "codemirror_mode": {
    "name": "ipython",
    "version": 3
   },
   "file_extension": ".py",
   "mimetype": "text/x-python",
   "name": "python",
   "nbconvert_exporter": "python",
   "pygments_lexer": "ipython3",
   "version": "3.9.15"
  },
  "orig_nbformat": 4,
  "vscode": {
   "interpreter": {
    "hash": "6e87c67cae97e36959f7601f2476fb6996aa14d36e644377be944ff7457508e8"
   }
  }
 },
 "nbformat": 4,
 "nbformat_minor": 2
}
